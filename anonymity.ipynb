{
  "cells": [
    {
      "cell_type": "code",
      "execution_count": null,
      "id": "463ce355",
      "metadata": {
        "id": "463ce355"
      },
      "outputs": [],
      "source": [
        "import pandas as pd"
      ]
    },
    {
      "cell_type": "code",
      "execution_count": null,
      "id": "eb28308f",
      "metadata": {
        "id": "eb28308f"
      },
      "outputs": [],
      "source": [
        "categorical = set((\n",
        "    'Asal',\n",
        "    'Alamat Tinggal'\n",
        "))\n",
        "df = pd.read_excel(\"DATABASE LENGKAP SI 2016.xlsx\")\n",
        "# df = pd.read_csv(\"DATABASE LENGKAP SI 2016.csv\", sep=\";\")"
      ]
    },
    {
      "cell_type": "code",
      "execution_count": null,
      "id": "3bb62290",
      "metadata": {
        "colab": {
          "base_uri": "https://localhost:8080/",
          "height": 424
        },
        "id": "3bb62290",
        "outputId": "9ef1bcd6-bc28-4ce6-d057-a64359c8ec77"
      },
      "outputs": [
        {
          "output_type": "execute_result",
          "data": {
            "text/html": [
              "<div>\n",
              "<style scoped>\n",
              "    .dataframe tbody tr th:only-of-type {\n",
              "        vertical-align: middle;\n",
              "    }\n",
              "\n",
              "    .dataframe tbody tr th {\n",
              "        vertical-align: top;\n",
              "    }\n",
              "\n",
              "    .dataframe thead th {\n",
              "        text-align: right;\n",
              "    }\n",
              "</style>\n",
              "<table border=\"1\" class=\"dataframe\">\n",
              "  <thead>\n",
              "    <tr style=\"text-align: right;\">\n",
              "      <th></th>\n",
              "      <th>NRP</th>\n",
              "      <th>Sex</th>\n",
              "      <th>DOB</th>\n",
              "      <th>Dom_email</th>\n",
              "      <th>Asal</th>\n",
              "      <th>Alamat Tinggal</th>\n",
              "      <th>Phone_Number</th>\n",
              "    </tr>\n",
              "  </thead>\n",
              "  <tbody>\n",
              "    <tr>\n",
              "      <th>0</th>\n",
              "      <td>5216100001</td>\n",
              "      <td>Perempuan</td>\n",
              "      <td>1998-04-24 00:00:00</td>\n",
              "      <td>0</td>\n",
              "      <td>Sidoarjo</td>\n",
              "      <td>Manyar</td>\n",
              "      <td>858</td>\n",
              "    </tr>\n",
              "    <tr>\n",
              "      <th>1</th>\n",
              "      <td>5216100002</td>\n",
              "      <td>Perempuan</td>\n",
              "      <td>1998-04-10 00:00:00</td>\n",
              "      <td>0</td>\n",
              "      <td>Mojokerto</td>\n",
              "      <td>Gebang</td>\n",
              "      <td>857</td>\n",
              "    </tr>\n",
              "    <tr>\n",
              "      <th>2</th>\n",
              "      <td>5216100003</td>\n",
              "      <td>Laki-Laki</td>\n",
              "      <td>1998-07-16 00:00:00</td>\n",
              "      <td>0</td>\n",
              "      <td>Serang</td>\n",
              "      <td>Gaada mas</td>\n",
              "      <td>823</td>\n",
              "    </tr>\n",
              "    <tr>\n",
              "      <th>3</th>\n",
              "      <td>5216100005</td>\n",
              "      <td>Laki-Laki</td>\n",
              "      <td>1997-09-02 00:00:00</td>\n",
              "      <td>2</td>\n",
              "      <td>Magetan</td>\n",
              "      <td>Asrama</td>\n",
              "      <td>813</td>\n",
              "    </tr>\n",
              "    <tr>\n",
              "      <th>4</th>\n",
              "      <td>5216100006</td>\n",
              "      <td>Perempuan</td>\n",
              "      <td>1997-06-14 00:00:00</td>\n",
              "      <td>0</td>\n",
              "      <td>Lumajang</td>\n",
              "      <td>Gebang</td>\n",
              "      <td>857</td>\n",
              "    </tr>\n",
              "    <tr>\n",
              "      <th>...</th>\n",
              "      <td>...</td>\n",
              "      <td>...</td>\n",
              "      <td>...</td>\n",
              "      <td>...</td>\n",
              "      <td>...</td>\n",
              "      <td>...</td>\n",
              "      <td>...</td>\n",
              "    </tr>\n",
              "    <tr>\n",
              "      <th>140</th>\n",
              "      <td>5216100160</td>\n",
              "      <td>Perempuan</td>\n",
              "      <td>2016-02-24 00:00:00</td>\n",
              "      <td>3</td>\n",
              "      <td>Gresik</td>\n",
              "      <td>Keputih</td>\n",
              "      <td>857</td>\n",
              "    </tr>\n",
              "    <tr>\n",
              "      <th>141</th>\n",
              "      <td>5216100162</td>\n",
              "      <td>Perempuan</td>\n",
              "      <td>2000-01-13 00:00:00</td>\n",
              "      <td>0</td>\n",
              "      <td>Jakarta</td>\n",
              "      <td>Wisma Permai</td>\n",
              "      <td>812</td>\n",
              "    </tr>\n",
              "    <tr>\n",
              "      <th>142</th>\n",
              "      <td>5216100701</td>\n",
              "      <td>Laki-Laki</td>\n",
              "      <td>1997-07-31 00:00:00</td>\n",
              "      <td>0</td>\n",
              "      <td>Blitar</td>\n",
              "      <td>Asrama</td>\n",
              "      <td>857</td>\n",
              "    </tr>\n",
              "    <tr>\n",
              "      <th>143</th>\n",
              "      <td>5216100702</td>\n",
              "      <td>Perempuan</td>\n",
              "      <td>1997-10-12 00:00:00</td>\n",
              "      <td>0</td>\n",
              "      <td>Tapin</td>\n",
              "      <td>Asrama</td>\n",
              "      <td>857</td>\n",
              "    </tr>\n",
              "    <tr>\n",
              "      <th>144</th>\n",
              "      <td>5216100703</td>\n",
              "      <td>Perempuan</td>\n",
              "      <td>1998-03-14 00:00:00</td>\n",
              "      <td>0</td>\n",
              "      <td>Cot Tunong</td>\n",
              "      <td>Asrama</td>\n",
              "      <td>813</td>\n",
              "    </tr>\n",
              "  </tbody>\n",
              "</table>\n",
              "<p>145 rows × 7 columns</p>\n",
              "</div>"
            ],
            "text/plain": [
              "            NRP        Sex  ... Alamat Tinggal  Phone_Number\n",
              "0    5216100001  Perempuan  ...         Manyar           858\n",
              "1    5216100002  Perempuan  ...         Gebang           857\n",
              "2    5216100003  Laki-Laki  ...      Gaada mas           823\n",
              "3    5216100005  Laki-Laki  ...         Asrama           813\n",
              "4    5216100006  Perempuan  ...         Gebang           857\n",
              "..          ...        ...  ...            ...           ...\n",
              "140  5216100160  Perempuan  ...        Keputih           857\n",
              "141  5216100162  Perempuan  ...   Wisma Permai           812\n",
              "142  5216100701  Laki-Laki  ...         Asrama           857\n",
              "143  5216100702  Perempuan  ...         Asrama           857\n",
              "144  5216100703  Perempuan  ...         Asrama           813\n",
              "\n",
              "[145 rows x 7 columns]"
            ]
          },
          "metadata": {},
          "execution_count": 3
        }
      ],
      "source": [
        "def get_year(date):\n",
        "    return str(date)[0:4]\n",
        "df"
      ]
    },
    {
      "cell_type": "code",
      "execution_count": null,
      "id": "1cde43dd",
      "metadata": {
        "id": "1cde43dd"
      },
      "outputs": [],
      "source": [
        "df['DOB'] = df['DOB'].apply(get_year)"
      ]
    },
    {
      "cell_type": "code",
      "execution_count": null,
      "id": "90778912",
      "metadata": {
        "id": "90778912"
      },
      "outputs": [],
      "source": [
        "df[\"Sex\"].replace({\"Laki-Laki\": 0, \"Perempuan\": 1}, inplace=True)\n",
        "# df[\"Asal\"].replace({\"Sidoarjo\": 1, \"Mojokerto\": 2, \"Serang\": 3, \"Magetan\":4, \"Lumajang\":5, \"Gresik\":6, \"Jakarta\":7, \"Blitar\": 8, \"Tapin\" : 9, \"Cot Tunong\":10, \"Surabaya\":11, \"Pasuruan\":12, \"Jombang\":13, \"Bandung\":14, \"Situbondo\":15, \"Ngawi\":16, \"Kediri\":17, \"Cilacap\":18, \"Madiun\":19, \"padang\":20, \"Tulungagung\": 21, \"Padang\": 22, \"Semarang\":23, \"Bogor\":24, \"Malang\":25, \"Sampang\":26, \"Palembang\":27, \"Batusangkar\":28, \"Ujung Pandang\":29, \"Manokwari\":30, \"Mataram\":31, \"Muntok\":32, \"Batam\":33, \"Singkawang\":34, \"Cilegon\":35, \"Jombang\":36, \"Bojonegoro\":37, \"Banyuwangi\":38, \"Ponorogo\":39, \"Jember\":40, \"Bukittinggi\":41, \"Bontang\":42, \"Denpasar\":43, \"Kupang\":44, \"Cianjur\":45, \"Medan\":46, \"Samarinda\":47, \"Tangerang\":48, \"Palu\":49,   }, inplace=True)"
      ]
    },
    {
      "cell_type": "code",
      "execution_count": null,
      "id": "acab3c48",
      "metadata": {
        "scrolled": false,
        "colab": {
          "base_uri": "https://localhost:8080/",
          "height": 424
        },
        "id": "acab3c48",
        "outputId": "68f28c06-f440-456a-f462-060817aff5ad"
      },
      "outputs": [
        {
          "output_type": "execute_result",
          "data": {
            "text/html": [
              "<div>\n",
              "<style scoped>\n",
              "    .dataframe tbody tr th:only-of-type {\n",
              "        vertical-align: middle;\n",
              "    }\n",
              "\n",
              "    .dataframe tbody tr th {\n",
              "        vertical-align: top;\n",
              "    }\n",
              "\n",
              "    .dataframe thead th {\n",
              "        text-align: right;\n",
              "    }\n",
              "</style>\n",
              "<table border=\"1\" class=\"dataframe\">\n",
              "  <thead>\n",
              "    <tr style=\"text-align: right;\">\n",
              "      <th></th>\n",
              "      <th>NRP</th>\n",
              "      <th>Sex</th>\n",
              "      <th>DOB</th>\n",
              "      <th>Dom_email</th>\n",
              "      <th>Asal</th>\n",
              "      <th>Alamat Tinggal</th>\n",
              "      <th>Phone_Number</th>\n",
              "    </tr>\n",
              "  </thead>\n",
              "  <tbody>\n",
              "    <tr>\n",
              "      <th>0</th>\n",
              "      <td>5216100001</td>\n",
              "      <td>1</td>\n",
              "      <td>1998</td>\n",
              "      <td>0</td>\n",
              "      <td>Sidoarjo</td>\n",
              "      <td>Manyar</td>\n",
              "      <td>858</td>\n",
              "    </tr>\n",
              "    <tr>\n",
              "      <th>1</th>\n",
              "      <td>5216100002</td>\n",
              "      <td>1</td>\n",
              "      <td>1998</td>\n",
              "      <td>0</td>\n",
              "      <td>Mojokerto</td>\n",
              "      <td>Gebang</td>\n",
              "      <td>857</td>\n",
              "    </tr>\n",
              "    <tr>\n",
              "      <th>2</th>\n",
              "      <td>5216100003</td>\n",
              "      <td>0</td>\n",
              "      <td>1998</td>\n",
              "      <td>0</td>\n",
              "      <td>Serang</td>\n",
              "      <td>Gaada mas</td>\n",
              "      <td>823</td>\n",
              "    </tr>\n",
              "    <tr>\n",
              "      <th>3</th>\n",
              "      <td>5216100005</td>\n",
              "      <td>0</td>\n",
              "      <td>1997</td>\n",
              "      <td>2</td>\n",
              "      <td>Magetan</td>\n",
              "      <td>Asrama</td>\n",
              "      <td>813</td>\n",
              "    </tr>\n",
              "    <tr>\n",
              "      <th>4</th>\n",
              "      <td>5216100006</td>\n",
              "      <td>1</td>\n",
              "      <td>1997</td>\n",
              "      <td>0</td>\n",
              "      <td>Lumajang</td>\n",
              "      <td>Gebang</td>\n",
              "      <td>857</td>\n",
              "    </tr>\n",
              "    <tr>\n",
              "      <th>...</th>\n",
              "      <td>...</td>\n",
              "      <td>...</td>\n",
              "      <td>...</td>\n",
              "      <td>...</td>\n",
              "      <td>...</td>\n",
              "      <td>...</td>\n",
              "      <td>...</td>\n",
              "    </tr>\n",
              "    <tr>\n",
              "      <th>140</th>\n",
              "      <td>5216100160</td>\n",
              "      <td>1</td>\n",
              "      <td>2016</td>\n",
              "      <td>3</td>\n",
              "      <td>Gresik</td>\n",
              "      <td>Keputih</td>\n",
              "      <td>857</td>\n",
              "    </tr>\n",
              "    <tr>\n",
              "      <th>141</th>\n",
              "      <td>5216100162</td>\n",
              "      <td>1</td>\n",
              "      <td>2000</td>\n",
              "      <td>0</td>\n",
              "      <td>Jakarta</td>\n",
              "      <td>Wisma Permai</td>\n",
              "      <td>812</td>\n",
              "    </tr>\n",
              "    <tr>\n",
              "      <th>142</th>\n",
              "      <td>5216100701</td>\n",
              "      <td>0</td>\n",
              "      <td>1997</td>\n",
              "      <td>0</td>\n",
              "      <td>Blitar</td>\n",
              "      <td>Asrama</td>\n",
              "      <td>857</td>\n",
              "    </tr>\n",
              "    <tr>\n",
              "      <th>143</th>\n",
              "      <td>5216100702</td>\n",
              "      <td>1</td>\n",
              "      <td>1997</td>\n",
              "      <td>0</td>\n",
              "      <td>Tapin</td>\n",
              "      <td>Asrama</td>\n",
              "      <td>857</td>\n",
              "    </tr>\n",
              "    <tr>\n",
              "      <th>144</th>\n",
              "      <td>5216100703</td>\n",
              "      <td>1</td>\n",
              "      <td>1998</td>\n",
              "      <td>0</td>\n",
              "      <td>Cot Tunong</td>\n",
              "      <td>Asrama</td>\n",
              "      <td>813</td>\n",
              "    </tr>\n",
              "  </tbody>\n",
              "</table>\n",
              "<p>145 rows × 7 columns</p>\n",
              "</div>"
            ],
            "text/plain": [
              "            NRP  Sex   DOB  Dom_email        Asal Alamat Tinggal  Phone_Number\n",
              "0    5216100001    1  1998          0    Sidoarjo         Manyar           858\n",
              "1    5216100002    1  1998          0   Mojokerto         Gebang           857\n",
              "2    5216100003    0  1998          0      Serang      Gaada mas           823\n",
              "3    5216100005    0  1997          2     Magetan         Asrama           813\n",
              "4    5216100006    1  1997          0    Lumajang         Gebang           857\n",
              "..          ...  ...   ...        ...         ...            ...           ...\n",
              "140  5216100160    1  2016          3      Gresik        Keputih           857\n",
              "141  5216100162    1  2000          0     Jakarta   Wisma Permai           812\n",
              "142  5216100701    0  1997          0      Blitar         Asrama           857\n",
              "143  5216100702    1  1997          0       Tapin         Asrama           857\n",
              "144  5216100703    1  1998          0  Cot Tunong         Asrama           813\n",
              "\n",
              "[145 rows x 7 columns]"
            ]
          },
          "metadata": {},
          "execution_count": 6
        }
      ],
      "source": [
        "df"
      ]
    },
    {
      "cell_type": "code",
      "execution_count": null,
      "id": "fc9bb6bc",
      "metadata": {
        "id": "fc9bb6bc"
      },
      "outputs": [],
      "source": [
        "df['DOB'] = df['DOB'].str.replace(',','').astype(int)\n"
      ]
    },
    {
      "cell_type": "code",
      "source": [
        "# df['Phone_Number'] = df['Phone_Number'].str.replace(',','').astype(int)"
      ],
      "metadata": {
        "id": "5sL_IfhgDCiE"
      },
      "id": "5sL_IfhgDCiE",
      "execution_count": null,
      "outputs": []
    },
    {
      "cell_type": "code",
      "source": [
        "df.to_excel('test.xlsx')"
      ],
      "metadata": {
        "id": "A9bIqFtWYplb"
      },
      "id": "A9bIqFtWYplb",
      "execution_count": null,
      "outputs": []
    },
    {
      "cell_type": "code",
      "execution_count": null,
      "id": "6074e5d3",
      "metadata": {
        "id": "6074e5d3"
      },
      "outputs": [],
      "source": [
        "for name in categorical:\n",
        "    df[name] = df[name].astype('category')"
      ]
    },
    {
      "cell_type": "code",
      "execution_count": null,
      "id": "e4021765",
      "metadata": {
        "colab": {
          "base_uri": "https://localhost:8080/"
        },
        "id": "e4021765",
        "outputId": "150fca32-c957-45e4-9e49-10cc202c3ff1"
      },
      "outputs": [
        {
          "output_type": "stream",
          "name": "stdout",
          "text": [
            "<class 'pandas.core.frame.DataFrame'>\n",
            "RangeIndex: 145 entries, 0 to 144\n",
            "Data columns (total 7 columns):\n",
            " #   Column          Non-Null Count  Dtype   \n",
            "---  ------          --------------  -----   \n",
            " 0   NRP             145 non-null    int64   \n",
            " 1   Sex             145 non-null    int64   \n",
            " 2   DOB             145 non-null    int64   \n",
            " 3   Dom_email       145 non-null    int64   \n",
            " 4   Asal            145 non-null    category\n",
            " 5   Alamat Tinggal  145 non-null    category\n",
            " 6   Phone_Number    145 non-null    int64   \n",
            "dtypes: category(2), int64(5)\n",
            "memory usage: 10.6 KB\n"
          ]
        }
      ],
      "source": [
        "df.info()"
      ]
    },
    {
      "cell_type": "code",
      "execution_count": null,
      "id": "bbc1e02e",
      "metadata": {
        "id": "bbc1e02e"
      },
      "outputs": [],
      "source": [
        "def get_spans(df, partition, scale=None):\n",
        "    spans = {}\n",
        "    for column in df.columns:\n",
        "        if column in categorical:\n",
        "            span = len(df[column][partition].unique())\n",
        "        else:\n",
        "            span = df[column][partition].max()-df[column][partition].min()\n",
        "        if scale is not None:\n",
        "            span = span/scale[column]\n",
        "        spans[column] = span\n",
        "    return spans"
      ]
    },
    {
      "cell_type": "code",
      "execution_count": null,
      "id": "4f4b4e1b",
      "metadata": {
        "scrolled": false,
        "colab": {
          "base_uri": "https://localhost:8080/"
        },
        "id": "4f4b4e1b",
        "outputId": "14724e8f-e00b-43ff-ef10-51c6325b2da2"
      },
      "outputs": [
        {
          "output_type": "execute_result",
          "data": {
            "text/plain": [
              "{'Alamat Tinggal': 50,\n",
              " 'Asal': 47,\n",
              " 'DOB': 5203,\n",
              " 'Dom_email': 9,\n",
              " 'NRP': 702,\n",
              " 'Phone_Number': 815,\n",
              " 'Sex': 1}"
            ]
          },
          "metadata": {},
          "execution_count": 13
        }
      ],
      "source": [
        "full_spans = get_spans(df, df.index)\n",
        "full_spans"
      ]
    },
    {
      "cell_type": "code",
      "execution_count": null,
      "id": "7dbdeda5",
      "metadata": {
        "id": "7dbdeda5"
      },
      "outputs": [],
      "source": [
        "def split(df, partition, column):\n",
        "    \"\"\"\n",
        "    :param        df: The dataframe to split\n",
        "    :param partition: The partition to split\n",
        "    :param    column: The column along which to split\n",
        "    :        returns: A tuple containing a split of the original partition\n",
        "    \"\"\"\n",
        "    dfp = df[column][partition]\n",
        "    if column in categorical:\n",
        "        values = dfp.unique()\n",
        "        lv = set(values[:len(values)//2])\n",
        "        rv = set(values[len(values)//2:])\n",
        "        return dfp.index[dfp.isin(lv)], dfp.index[dfp.isin(rv)]\n",
        "    else:        \n",
        "        median = dfp.median()\n",
        "        dfl = dfp.index[dfp < median]\n",
        "        dfr = dfp.index[dfp >= median]\n",
        "        return (dfl, dfr)"
      ]
    },
    {
      "cell_type": "code",
      "execution_count": null,
      "id": "7669add4",
      "metadata": {
        "id": "7669add4"
      },
      "outputs": [],
      "source": [
        "def is_k_anonymous(df, partition, sensitive_column, k=3):\n",
        "    \"\"\"\n",
        "    :param               df: The dataframe on which to check the partition.\n",
        "    :param        partition: The partition of the dataframe to check.\n",
        "    :param sensitive_column: The name of the sensitive column\n",
        "    :param                k: The desired k\n",
        "    :returns               : True if the partition is valid according to our k-anonymity criteria, False otherwise.\n",
        "    \"\"\"\n",
        "    if len(partition) < k:\n",
        "        return False\n",
        "    return True\n",
        "\n",
        "def partition_dataset(df, feature_columns, sensitive_column, scale, is_valid):\n",
        "    \"\"\"\n",
        "    :param               df: The dataframe to be partitioned.\n",
        "    :param  feature_columns: A list of column names along which to partition the dataset.\n",
        "    :param sensitive_column: The name of the sensitive column (to be passed on to the `is_valid` function)\n",
        "    :param            scale: The column spans as generated before.\n",
        "    :param         is_valid: A function that takes a dataframe and a partition and returns True if the partition is valid.\n",
        "    :returns               : A list of valid partitions that cover the entire dataframe.\n",
        "    \"\"\"\n",
        "    finished_partitions = []\n",
        "    partitions = [df.index]\n",
        "    while partitions:\n",
        "        partition = partitions.pop(0)\n",
        "        spans = get_spans(df[feature_columns], partition, scale)\n",
        "        for column, span in sorted(spans.items(), key=lambda x:-x[1]):\n",
        "            lp, rp = split(df, partition, column)\n",
        "            if not is_valid(df, lp, sensitive_column) or not is_valid(df, rp, sensitive_column):\n",
        "                continue\n",
        "            partitions.extend((lp, rp))\n",
        "            break\n",
        "        else:\n",
        "            finished_partitions.append(partition)\n",
        "    return finished_partitions\n"
      ]
    },
    {
      "cell_type": "code",
      "source": [
        ""
      ],
      "metadata": {
        "id": "p8IWRCnLV4t8"
      },
      "id": "p8IWRCnLV4t8",
      "execution_count": null,
      "outputs": []
    },
    {
      "cell_type": "code",
      "execution_count": null,
      "id": "b976fe2f",
      "metadata": {
        "colab": {
          "base_uri": "https://localhost:8080/"
        },
        "id": "b976fe2f",
        "outputId": "e727a5d1-1e95-4acf-ca3f-179ba040cde9"
      },
      "outputs": [
        {
          "output_type": "stream",
          "name": "stdout",
          "text": [
            "<class 'pandas.core.frame.DataFrame'>\n",
            "RangeIndex: 145 entries, 0 to 144\n",
            "Data columns (total 7 columns):\n",
            " #   Column          Non-Null Count  Dtype   \n",
            "---  ------          --------------  -----   \n",
            " 0   NRP             145 non-null    int64   \n",
            " 1   Sex             145 non-null    int64   \n",
            " 2   DOB             145 non-null    int64   \n",
            " 3   Dom_email       145 non-null    int64   \n",
            " 4   Asal            145 non-null    category\n",
            " 5   Alamat Tinggal  145 non-null    category\n",
            " 6   Phone_Number    145 non-null    int64   \n",
            "dtypes: category(2), int64(5)\n",
            "memory usage: 10.6 KB\n"
          ]
        }
      ],
      "source": [
        "# pip install matplotlib\n",
        "df.info()"
      ]
    },
    {
      "cell_type": "code",
      "source": [
        "# dfn.to_excel('test.xlsx')"
      ],
      "metadata": {
        "id": "xjzpVpAcYZof"
      },
      "id": "xjzpVpAcYZof",
      "execution_count": null,
      "outputs": []
    },
    {
      "cell_type": "code",
      "execution_count": null,
      "id": "ee308e2b",
      "metadata": {
        "id": "ee308e2b"
      },
      "outputs": [],
      "source": [
        "feature_columns = ['Dom_email', 'Phone_Number']\n",
        "sensitive_column = 'Asal'\n",
        "finished_partitions = partition_dataset(df, feature_columns, sensitive_column, full_spans, is_k_anonymous)"
      ]
    },
    {
      "cell_type": "code",
      "source": [
        "# dfn.to_excel('test.xlsx')"
      ],
      "metadata": {
        "id": "_GAkUceFXvIp"
      },
      "id": "_GAkUceFXvIp",
      "execution_count": null,
      "outputs": []
    },
    {
      "cell_type": "code",
      "execution_count": null,
      "id": "d1dd247a",
      "metadata": {
        "colab": {
          "base_uri": "https://localhost:8080/"
        },
        "id": "d1dd247a",
        "outputId": "c986f960-f9d3-4279-8fda-cdefcf32b939"
      },
      "outputs": [
        {
          "output_type": "execute_result",
          "data": {
            "text/plain": [
              "12"
            ]
          },
          "metadata": {},
          "execution_count": 20
        }
      ],
      "source": [
        "len(finished_partitions)"
      ]
    },
    {
      "cell_type": "code",
      "execution_count": null,
      "id": "2cd3c802",
      "metadata": {
        "id": "2cd3c802"
      },
      "outputs": [],
      "source": [
        "import matplotlib.pylab as pl\n",
        "import matplotlib.patches as patches"
      ]
    },
    {
      "cell_type": "code",
      "execution_count": null,
      "id": "7b1c3d3a",
      "metadata": {
        "id": "7b1c3d3a"
      },
      "outputs": [],
      "source": [
        "def build_indexes(df):\n",
        "    indexes = {}\n",
        "    for column in categorical:\n",
        "        values = sorted(df[column].unique())\n",
        "        indexes[column] = { x : y for x, y in zip(values, range(len(values)))}\n",
        "    return indexes\n",
        "\n",
        "def get_coords(df, column, partition, indexes, offset=0.1):\n",
        "    if column in categorical:\n",
        "        sv = df[column][partition].sort_values()\n",
        "        l, r = indexes[column][sv[sv.index[0]]], indexes[column][sv[sv.index[-1]]]+1.0\n",
        "    else:\n",
        "        sv = df[column][partition].sort_values()\n",
        "        next_value = sv[sv.index[-1]]\n",
        "        larger_values = df[df[column] > next_value][column]\n",
        "        if len(larger_values) > 0:\n",
        "            next_value = larger_values.min()\n",
        "        l = sv[sv.index[0]]\n",
        "        r = next_value\n",
        "    # we add some offset to make the partitions more easily visible\n",
        "    l -= offset\n",
        "    r += offset\n",
        "    return l, r\n",
        "\n",
        "def get_partition_rects(df, partitions, column_x, column_y, indexes, offsets=[0.1, 0.1]):\n",
        "    rects = []\n",
        "    for partition in partitions:\n",
        "        xl, xr = get_coords(df, column_x, partition, indexes, offset=offsets[0])\n",
        "        yl, yr = get_coords(df, column_y, partition, indexes, offset=offsets[1])\n",
        "        rects.append(((xl, yl),(xr, yr)))\n",
        "    return rects\n",
        "\n",
        "def get_bounds(df, column, indexes, offset=1.0):\n",
        "    if column in categorical:\n",
        "        return 0-offset, len(indexes[column])+offset\n",
        "    return df[column].min()-offset, df[column].max()+offset"
      ]
    },
    {
      "cell_type": "code",
      "execution_count": null,
      "id": "92db36e4",
      "metadata": {
        "id": "92db36e4"
      },
      "outputs": [],
      "source": [
        "# we calculate the bounding rects of all partitions that we created\n",
        "indexes = build_indexes(df)\n",
        "column_x, column_y = feature_columns[:2]\n",
        "rects = get_partition_rects(df, finished_partitions, column_x, column_y, indexes, offsets=[0.0, 0.0])"
      ]
    },
    {
      "cell_type": "code",
      "execution_count": null,
      "id": "96630178",
      "metadata": {
        "colab": {
          "base_uri": "https://localhost:8080/"
        },
        "id": "96630178",
        "outputId": "df71bc9e-9042-4f8c-b835-77c33daacba8"
      },
      "outputs": [
        {
          "output_type": "execute_result",
          "data": {
            "text/plain": [
              "[((0.0, 813.0), (9.0, 822.0)),\n",
              " ((0.0, 81.0), (7.0, 812.0)),\n",
              " ((0.0, 812.0), (9.0, 813.0)),\n",
              " ((0.0, 822.0), (9.0, 823.0)),\n",
              " ((0.0, 823.0), (1.0, 838.0)),\n",
              " ((0.0, 838.0), (8.0, 856.0)),\n",
              " ((0.0, 856.0), (4.0, 857.0)),\n",
              " ((0.0, 857.0), (9.0, 858.0)),\n",
              " ((0.0, 858.0), (1.0, 878.0)),\n",
              " ((0.0, 878.0), (4.0, 895.0))]"
            ]
          },
          "metadata": {},
          "execution_count": 24
        }
      ],
      "source": [
        "rects[:10]"
      ]
    },
    {
      "cell_type": "code",
      "execution_count": null,
      "id": "51fa0bb5",
      "metadata": {
        "colab": {
          "base_uri": "https://localhost:8080/",
          "height": 424
        },
        "id": "51fa0bb5",
        "outputId": "c951d342-976d-4708-93bb-16962c1e71ce"
      },
      "outputs": [
        {
          "output_type": "execute_result",
          "data": {
            "text/html": [
              "<div>\n",
              "<style scoped>\n",
              "    .dataframe tbody tr th:only-of-type {\n",
              "        vertical-align: middle;\n",
              "    }\n",
              "\n",
              "    .dataframe tbody tr th {\n",
              "        vertical-align: top;\n",
              "    }\n",
              "\n",
              "    .dataframe thead th {\n",
              "        text-align: right;\n",
              "    }\n",
              "</style>\n",
              "<table border=\"1\" class=\"dataframe\">\n",
              "  <thead>\n",
              "    <tr style=\"text-align: right;\">\n",
              "      <th></th>\n",
              "      <th>NRP</th>\n",
              "      <th>Sex</th>\n",
              "      <th>DOB</th>\n",
              "      <th>Dom_email</th>\n",
              "      <th>Asal</th>\n",
              "      <th>Alamat Tinggal</th>\n",
              "      <th>Phone_Number</th>\n",
              "    </tr>\n",
              "  </thead>\n",
              "  <tbody>\n",
              "    <tr>\n",
              "      <th>0</th>\n",
              "      <td>5216100001</td>\n",
              "      <td>1</td>\n",
              "      <td>1998</td>\n",
              "      <td>0</td>\n",
              "      <td>Sidoarjo</td>\n",
              "      <td>Manyar</td>\n",
              "      <td>858</td>\n",
              "    </tr>\n",
              "    <tr>\n",
              "      <th>1</th>\n",
              "      <td>5216100002</td>\n",
              "      <td>1</td>\n",
              "      <td>1998</td>\n",
              "      <td>0</td>\n",
              "      <td>Mojokerto</td>\n",
              "      <td>Gebang</td>\n",
              "      <td>857</td>\n",
              "    </tr>\n",
              "    <tr>\n",
              "      <th>2</th>\n",
              "      <td>5216100003</td>\n",
              "      <td>0</td>\n",
              "      <td>1998</td>\n",
              "      <td>0</td>\n",
              "      <td>Serang</td>\n",
              "      <td>Gaada mas</td>\n",
              "      <td>823</td>\n",
              "    </tr>\n",
              "    <tr>\n",
              "      <th>3</th>\n",
              "      <td>5216100005</td>\n",
              "      <td>0</td>\n",
              "      <td>1997</td>\n",
              "      <td>2</td>\n",
              "      <td>Magetan</td>\n",
              "      <td>Asrama</td>\n",
              "      <td>813</td>\n",
              "    </tr>\n",
              "    <tr>\n",
              "      <th>4</th>\n",
              "      <td>5216100006</td>\n",
              "      <td>1</td>\n",
              "      <td>1997</td>\n",
              "      <td>0</td>\n",
              "      <td>Lumajang</td>\n",
              "      <td>Gebang</td>\n",
              "      <td>857</td>\n",
              "    </tr>\n",
              "    <tr>\n",
              "      <th>...</th>\n",
              "      <td>...</td>\n",
              "      <td>...</td>\n",
              "      <td>...</td>\n",
              "      <td>...</td>\n",
              "      <td>...</td>\n",
              "      <td>...</td>\n",
              "      <td>...</td>\n",
              "    </tr>\n",
              "    <tr>\n",
              "      <th>140</th>\n",
              "      <td>5216100160</td>\n",
              "      <td>1</td>\n",
              "      <td>2016</td>\n",
              "      <td>3</td>\n",
              "      <td>Gresik</td>\n",
              "      <td>Keputih</td>\n",
              "      <td>857</td>\n",
              "    </tr>\n",
              "    <tr>\n",
              "      <th>141</th>\n",
              "      <td>5216100162</td>\n",
              "      <td>1</td>\n",
              "      <td>2000</td>\n",
              "      <td>0</td>\n",
              "      <td>Jakarta</td>\n",
              "      <td>Wisma Permai</td>\n",
              "      <td>812</td>\n",
              "    </tr>\n",
              "    <tr>\n",
              "      <th>142</th>\n",
              "      <td>5216100701</td>\n",
              "      <td>0</td>\n",
              "      <td>1997</td>\n",
              "      <td>0</td>\n",
              "      <td>Blitar</td>\n",
              "      <td>Asrama</td>\n",
              "      <td>857</td>\n",
              "    </tr>\n",
              "    <tr>\n",
              "      <th>143</th>\n",
              "      <td>5216100702</td>\n",
              "      <td>1</td>\n",
              "      <td>1997</td>\n",
              "      <td>0</td>\n",
              "      <td>Tapin</td>\n",
              "      <td>Asrama</td>\n",
              "      <td>857</td>\n",
              "    </tr>\n",
              "    <tr>\n",
              "      <th>144</th>\n",
              "      <td>5216100703</td>\n",
              "      <td>1</td>\n",
              "      <td>1998</td>\n",
              "      <td>0</td>\n",
              "      <td>Cot Tunong</td>\n",
              "      <td>Asrama</td>\n",
              "      <td>813</td>\n",
              "    </tr>\n",
              "  </tbody>\n",
              "</table>\n",
              "<p>145 rows × 7 columns</p>\n",
              "</div>"
            ],
            "text/plain": [
              "            NRP  Sex   DOB  Dom_email        Asal Alamat Tinggal  Phone_Number\n",
              "0    5216100001    1  1998          0    Sidoarjo         Manyar           858\n",
              "1    5216100002    1  1998          0   Mojokerto         Gebang           857\n",
              "2    5216100003    0  1998          0      Serang      Gaada mas           823\n",
              "3    5216100005    0  1997          2     Magetan         Asrama           813\n",
              "4    5216100006    1  1997          0    Lumajang         Gebang           857\n",
              "..          ...  ...   ...        ...         ...            ...           ...\n",
              "140  5216100160    1  2016          3      Gresik        Keputih           857\n",
              "141  5216100162    1  2000          0     Jakarta   Wisma Permai           812\n",
              "142  5216100701    0  1997          0      Blitar         Asrama           857\n",
              "143  5216100702    1  1997          0       Tapin         Asrama           857\n",
              "144  5216100703    1  1998          0  Cot Tunong         Asrama           813\n",
              "\n",
              "[145 rows x 7 columns]"
            ]
          },
          "metadata": {},
          "execution_count": 25
        }
      ],
      "source": [
        "df"
      ]
    },
    {
      "cell_type": "code",
      "execution_count": null,
      "id": "ccfa0b95",
      "metadata": {
        "colab": {
          "base_uri": "https://localhost:8080/"
        },
        "id": "ccfa0b95",
        "outputId": "20138d30-10ef-4f1b-89cb-c7237cb0aa05"
      },
      "outputs": [
        {
          "output_type": "stream",
          "name": "stdout",
          "text": [
            "<class 'pandas.core.frame.DataFrame'>\n",
            "RangeIndex: 145 entries, 0 to 144\n",
            "Data columns (total 7 columns):\n",
            " #   Column          Non-Null Count  Dtype   \n",
            "---  ------          --------------  -----   \n",
            " 0   NRP             145 non-null    int64   \n",
            " 1   Sex             145 non-null    int64   \n",
            " 2   DOB             145 non-null    int64   \n",
            " 3   Dom_email       145 non-null    int64   \n",
            " 4   Asal            145 non-null    category\n",
            " 5   Alamat Tinggal  145 non-null    category\n",
            " 6   Phone_Number    145 non-null    int64   \n",
            "dtypes: category(2), int64(5)\n",
            "memory usage: 10.6 KB\n"
          ]
        }
      ],
      "source": [
        "df.info()"
      ]
    },
    {
      "cell_type": "code",
      "execution_count": null,
      "id": "6ea76310",
      "metadata": {
        "id": "6ea76310"
      },
      "outputs": [],
      "source": [
        "# we plot the rects\n",
        "def plot_rects(df, ax, rects, column_x, column_y, edgecolor='black', facecolor='none'):\n",
        "    for (xl, yl),(xr, yr) in rects:\n",
        "        ax.add_patch(patches.Rectangle((xl,yl),xr-xl,yr-yl,linewidth=1,edgecolor=edgecolor,facecolor=facecolor, alpha=0.5))\n",
        "    ax.set_xlim(*get_bounds(df, column_x, indexes))\n",
        "    ax.set_ylim(*get_bounds(df, column_y, indexes))\n",
        "    ax.set_xlabel(column_x)\n",
        "    ax.set_ylabel(column_y)"
      ]
    },
    {
      "cell_type": "code",
      "execution_count": null,
      "id": "96ff4626",
      "metadata": {
        "colab": {
          "base_uri": "https://localhost:8080/",
          "height": 1000
        },
        "id": "96ff4626",
        "outputId": "964b276c-91d6-4ec5-f299-d79a8ee4c92e"
      },
      "outputs": [
        {
          "output_type": "display_data",
          "data": {
            "image/png": "[encoded data removed]",
            "text/plain": [
              "<Figure size 1440x1440 with 1 Axes>"
            ]
          },
          "metadata": {
            "needs_background": "light"
          }
        }
      ],
      "source": [
        "pl.figure(figsize=(20,20))\n",
        "ax = pl.subplot(111)\n",
        "plot_rects(df, ax, rects, column_x, column_y, facecolor='r')\n",
        "pl.scatter(df[column_x], df[column_y])\n",
        "pl.show()"
      ]
    },
    {
      "cell_type": "code",
      "execution_count": null,
      "id": "bf30a29c",
      "metadata": {
        "id": "bf30a29c"
      },
      "outputs": [],
      "source": [
        "def agg_categorical_column(series):\n",
        "    return [','.join(set(series))]\n",
        "\n",
        "def agg_numerical_column(series):\n",
        "    return [series.mean()]"
      ]
    },
    {
      "cell_type": "code",
      "execution_count": null,
      "id": "59623f0a",
      "metadata": {
        "id": "59623f0a"
      },
      "outputs": [],
      "source": [
        "def build_anonymized_dataset(df, partitions, feature_columns, sensitive_column, max_partitions=None):\n",
        "    aggregations = {}\n",
        "    for column in feature_columns:\n",
        "        if column in categorical:\n",
        "            aggregations[column] = agg_categorical_column\n",
        "        else:\n",
        "            aggregations[column] = agg_numerical_column\n",
        "    rows = []\n",
        "    for i, partition in enumerate(partitions):\n",
        "        if i % 100 == 1:\n",
        "            print(\"Finished {} partitions...\".format(i))\n",
        "        if max_partitions is not None and i > max_partitions:\n",
        "            break\n",
        "        grouped_columns = df.loc[partition].agg(aggregations, squeeze=False)\n",
        "        sensitive_counts = df.loc[partition].groupby(sensitive_column).agg({sensitive_column : 'count'})\n",
        "        values = grouped_columns.iloc[0].to_dict()\n",
        "        for sensitive_value, count in sensitive_counts[sensitive_column].items():\n",
        "            if count == 0:\n",
        "                continue\n",
        "            values.update({\n",
        "                sensitive_column : sensitive_value,\n",
        "                'count' : count,\n",
        "\n",
        "            })\n",
        "            rows.append(values.copy())\n",
        "    return pd.DataFrame(rows)"
      ]
    },
    {
      "cell_type": "code",
      "execution_count": null,
      "id": "7ae85907",
      "metadata": {
        "colab": {
          "base_uri": "https://localhost:8080/"
        },
        "id": "7ae85907",
        "outputId": "35a55685-214f-4698-815b-aaa3c977e099"
      },
      "outputs": [
        {
          "output_type": "stream",
          "name": "stdout",
          "text": [
            "<class 'pandas.core.frame.DataFrame'>\n",
            "RangeIndex: 145 entries, 0 to 144\n",
            "Data columns (total 7 columns):\n",
            " #   Column          Non-Null Count  Dtype   \n",
            "---  ------          --------------  -----   \n",
            " 0   NRP             145 non-null    int64   \n",
            " 1   Sex             145 non-null    int64   \n",
            " 2   DOB             145 non-null    int64   \n",
            " 3   Dom_email       145 non-null    int64   \n",
            " 4   Asal            145 non-null    category\n",
            " 5   Alamat Tinggal  145 non-null    category\n",
            " 6   Phone_Number    145 non-null    int64   \n",
            "dtypes: category(2), int64(5)\n",
            "memory usage: 10.6 KB\n"
          ]
        }
      ],
      "source": [
        "df.info()"
      ]
    },
    {
      "cell_type": "code",
      "execution_count": null,
      "id": "c9ff3041",
      "metadata": {
        "scrolled": true,
        "colab": {
          "base_uri": "https://localhost:8080/"
        },
        "id": "c9ff3041",
        "outputId": "62343a52-120b-4523-a429-3426defea20a"
      },
      "outputs": [
        {
          "output_type": "stream",
          "name": "stdout",
          "text": [
            "Finished 1 partitions...\n"
          ]
        }
      ],
      "source": [
        "dfn = build_anonymized_dataset(df, finished_partitions, feature_columns, sensitive_column)"
      ]
    },
    {
      "cell_type": "code",
      "execution_count": null,
      "id": "68e19b61",
      "metadata": {
        "colab": {
          "base_uri": "https://localhost:8080/",
          "height": 424
        },
        "id": "68e19b61",
        "outputId": "afa6e1c2-b122-417b-8e79-b3c7f43eee73"
      },
      "outputs": [
        {
          "output_type": "execute_result",
          "data": {
            "text/html": [
              "<div>\n",
              "<style scoped>\n",
              "    .dataframe tbody tr th:only-of-type {\n",
              "        vertical-align: middle;\n",
              "    }\n",
              "\n",
              "    .dataframe tbody tr th {\n",
              "        vertical-align: top;\n",
              "    }\n",
              "\n",
              "    .dataframe thead th {\n",
              "        text-align: right;\n",
              "    }\n",
              "</style>\n",
              "<table border=\"1\" class=\"dataframe\">\n",
              "  <thead>\n",
              "    <tr style=\"text-align: right;\">\n",
              "      <th></th>\n",
              "      <th>Dom_email</th>\n",
              "      <th>Phone_Number</th>\n",
              "      <th>Asal</th>\n",
              "      <th>count</th>\n",
              "    </tr>\n",
              "  </thead>\n",
              "  <tbody>\n",
              "    <tr>\n",
              "      <th>48</th>\n",
              "      <td>0.0</td>\n",
              "      <td>823.0</td>\n",
              "      <td>Batusangkar</td>\n",
              "      <td>1</td>\n",
              "    </tr>\n",
              "    <tr>\n",
              "      <th>49</th>\n",
              "      <td>0.0</td>\n",
              "      <td>823.0</td>\n",
              "      <td>Padang</td>\n",
              "      <td>1</td>\n",
              "    </tr>\n",
              "    <tr>\n",
              "      <th>50</th>\n",
              "      <td>0.0</td>\n",
              "      <td>823.0</td>\n",
              "      <td>Palu</td>\n",
              "      <td>1</td>\n",
              "    </tr>\n",
              "    <tr>\n",
              "      <th>51</th>\n",
              "      <td>0.0</td>\n",
              "      <td>823.0</td>\n",
              "      <td>Serang</td>\n",
              "      <td>1</td>\n",
              "    </tr>\n",
              "    <tr>\n",
              "      <th>52</th>\n",
              "      <td>0.0</td>\n",
              "      <td>823.0</td>\n",
              "      <td>Sidoarjo</td>\n",
              "      <td>1</td>\n",
              "    </tr>\n",
              "    <tr>\n",
              "      <th>...</th>\n",
              "      <td>...</td>\n",
              "      <td>...</td>\n",
              "      <td>...</td>\n",
              "      <td>...</td>\n",
              "    </tr>\n",
              "    <tr>\n",
              "      <th>103</th>\n",
              "      <td>1.0</td>\n",
              "      <td>896.0</td>\n",
              "      <td>Semarang</td>\n",
              "      <td>1</td>\n",
              "    </tr>\n",
              "    <tr>\n",
              "      <th>104</th>\n",
              "      <td>1.0</td>\n",
              "      <td>896.0</td>\n",
              "      <td>Surabaya</td>\n",
              "      <td>1</td>\n",
              "    </tr>\n",
              "    <tr>\n",
              "      <th>21</th>\n",
              "      <td>1.5</td>\n",
              "      <td>447.0</td>\n",
              "      <td>Bogor</td>\n",
              "      <td>1</td>\n",
              "    </tr>\n",
              "    <tr>\n",
              "      <th>22</th>\n",
              "      <td>1.5</td>\n",
              "      <td>447.0</td>\n",
              "      <td>Jakarta</td>\n",
              "      <td>1</td>\n",
              "    </tr>\n",
              "    <tr>\n",
              "      <th>23</th>\n",
              "      <td>1.5</td>\n",
              "      <td>447.0</td>\n",
              "      <td>Surabaya</td>\n",
              "      <td>2</td>\n",
              "    </tr>\n",
              "  </tbody>\n",
              "</table>\n",
              "<p>105 rows × 4 columns</p>\n",
              "</div>"
            ],
            "text/plain": [
              "     Dom_email  Phone_Number         Asal  count\n",
              "48         0.0         823.0  Batusangkar      1\n",
              "49         0.0         823.0       Padang      1\n",
              "50         0.0         823.0         Palu      1\n",
              "51         0.0         823.0       Serang      1\n",
              "52         0.0         823.0     Sidoarjo      1\n",
              "..         ...           ...          ...    ...\n",
              "103        1.0         896.0     Semarang      1\n",
              "104        1.0         896.0     Surabaya      1\n",
              "21         1.5         447.0        Bogor      1\n",
              "22         1.5         447.0      Jakarta      1\n",
              "23         1.5         447.0     Surabaya      2\n",
              "\n",
              "[105 rows x 4 columns]"
            ]
          },
          "metadata": {},
          "execution_count": 34
        }
      ],
      "source": [
        "dfn.to_csv('anonymized_dataset.csv', index=False)\n",
        "# we sort the resulting dataframe using the feature columns and the sensitive attribute\n",
        "dfn.sort_values(feature_columns+[sensitive_column])"
      ]
    },
    {
      "cell_type": "code",
      "execution_count": null,
      "id": "0fc0cce6",
      "metadata": {
        "id": "0fc0cce6"
      },
      "outputs": [],
      "source": [
        ""
      ]
    },
    {
      "cell_type": "code",
      "execution_count": null,
      "id": "d2c43bbf",
      "metadata": {
        "id": "d2c43bbf"
      },
      "outputs": [],
      "source": [
        ""
      ]
    }
  ],
  "metadata": {
    "kernelspec": {
      "display_name": "Python 3 (ipykernel)",
      "language": "python",
      "name": "python3"
    },
    "language_info": {
      "codemirror_mode": {
        "name": "ipython",
        "version": 3
      },
      "file_extension": ".py",
      "mimetype": "text/x-python",
      "name": "python",
      "nbconvert_exporter": "python",
      "pygments_lexer": "ipython3",
      "version": "3.7.2"
    },
    "colab": {
      "name": "anonymity.ipynb",
      "provenance": []
    }
  },
  "nbformat": 4,
  "nbformat_minor": 5
}